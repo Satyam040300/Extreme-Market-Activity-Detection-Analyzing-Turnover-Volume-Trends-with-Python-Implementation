{
  "nbformat": 4,
  "nbformat_minor": 0,
  "metadata": {
    "colab": {
      "provenance": []
    },
    "kernelspec": {
      "name": "python3",
      "display_name": "Python 3"
    },
    "language_info": {
      "name": "python"
    }
  },
  "cells": [
    {
      "cell_type": "code",
      "execution_count": null,
      "metadata": {
        "colab": {
          "base_uri": "https://localhost:8080/"
        },
        "id": "f1UVHVLh798N",
        "outputId": "ca3477e2-f848-4052-ca8c-0da090acbf01"
      },
      "outputs": [
        {
          "output_type": "stream",
          "name": "stdout",
          "text": [
            "Collecting wrds\n",
            "  Downloading wrds-3.2.0-py3-none-any.whl.metadata (5.8 kB)\n",
            "Requirement already satisfied: pandas in /usr/local/lib/python3.11/dist-packages (2.2.2)\n",
            "Requirement already satisfied: numpy<1.27,>=1.26 in /usr/local/lib/python3.11/dist-packages (from wrds) (1.26.4)\n",
            "Collecting packaging<23.3 (from wrds)\n",
            "  Downloading packaging-23.2-py3-none-any.whl.metadata (3.2 kB)\n",
            "Collecting psycopg2-binary<2.10,>=2.9 (from wrds)\n",
            "  Downloading psycopg2_binary-2.9.10-cp311-cp311-manylinux_2_17_x86_64.manylinux2014_x86_64.whl.metadata (4.9 kB)\n",
            "Collecting scipy<1.13,>=1.12 (from wrds)\n",
            "  Downloading scipy-1.12.0-cp311-cp311-manylinux_2_17_x86_64.manylinux2014_x86_64.whl.metadata (60 kB)\n",
            "\u001b[2K     \u001b[90m━━━━━━━━━━━━━━━━━━━━━━━━━━━━━━━━━━━━━━━━\u001b[0m \u001b[32m60.4/60.4 kB\u001b[0m \u001b[31m1.9 MB/s\u001b[0m eta \u001b[36m0:00:00\u001b[0m\n",
            "\u001b[?25hRequirement already satisfied: sqlalchemy<2.1,>=2 in /usr/local/lib/python3.11/dist-packages (from wrds) (2.0.37)\n",
            "Requirement already satisfied: python-dateutil>=2.8.2 in /usr/local/lib/python3.11/dist-packages (from pandas) (2.8.2)\n",
            "Requirement already satisfied: pytz>=2020.1 in /usr/local/lib/python3.11/dist-packages (from pandas) (2024.2)\n",
            "Requirement already satisfied: tzdata>=2022.7 in /usr/local/lib/python3.11/dist-packages (from pandas) (2025.1)\n",
            "Requirement already satisfied: six>=1.5 in /usr/local/lib/python3.11/dist-packages (from python-dateutil>=2.8.2->pandas) (1.17.0)\n",
            "Requirement already satisfied: greenlet!=0.4.17 in /usr/local/lib/python3.11/dist-packages (from sqlalchemy<2.1,>=2->wrds) (3.1.1)\n",
            "Requirement already satisfied: typing-extensions>=4.6.0 in /usr/local/lib/python3.11/dist-packages (from sqlalchemy<2.1,>=2->wrds) (4.12.2)\n",
            "Downloading wrds-3.2.0-py3-none-any.whl (13 kB)\n",
            "Downloading packaging-23.2-py3-none-any.whl (53 kB)\n",
            "\u001b[2K   \u001b[90m━━━━━━━━━━━━━━━━━━━━━━━━━━━━━━━━━━━━━━━━\u001b[0m \u001b[32m53.0/53.0 kB\u001b[0m \u001b[31m3.1 MB/s\u001b[0m eta \u001b[36m0:00:00\u001b[0m\n",
            "\u001b[?25hDownloading psycopg2_binary-2.9.10-cp311-cp311-manylinux_2_17_x86_64.manylinux2014_x86_64.whl (3.0 MB)\n",
            "\u001b[2K   \u001b[90m━━━━━━━━━━━━━━━━━━━━━━━━━━━━━━━━━━━━━━━━\u001b[0m \u001b[32m3.0/3.0 MB\u001b[0m \u001b[31m38.5 MB/s\u001b[0m eta \u001b[36m0:00:00\u001b[0m\n",
            "\u001b[?25hDownloading scipy-1.12.0-cp311-cp311-manylinux_2_17_x86_64.manylinux2014_x86_64.whl (38.4 MB)\n",
            "\u001b[2K   \u001b[90m━━━━━━━━━━━━━━━━━━━━━━━━━━━━━━━━━━━━━━━━\u001b[0m \u001b[32m38.4/38.4 MB\u001b[0m \u001b[31m16.5 MB/s\u001b[0m eta \u001b[36m0:00:00\u001b[0m\n",
            "\u001b[?25hInstalling collected packages: scipy, psycopg2-binary, packaging, wrds\n",
            "  Attempting uninstall: scipy\n",
            "    Found existing installation: scipy 1.13.1\n",
            "    Uninstalling scipy-1.13.1:\n",
            "      Successfully uninstalled scipy-1.13.1\n",
            "  Attempting uninstall: packaging\n",
            "    Found existing installation: packaging 24.2\n",
            "    Uninstalling packaging-24.2:\n",
            "      Successfully uninstalled packaging-24.2\n",
            "Successfully installed packaging-23.2 psycopg2-binary-2.9.10 scipy-1.12.0 wrds-3.2.0\n"
          ]
        }
      ],
      "source": [
        "! pip install wrds pandas"
      ]
    },
    {
      "cell_type": "code",
      "source": [
        "import wrds\n",
        "import pandas as pd\n",
        "import numpy as np\n",
        "\n",
        "# Connect to WRDS\n",
        "conn = wrds.Connection()\n",
        "\n",
        "# Query CRSP data (CRSP daily stock file)\n",
        "query_crsp = \"\"\"\n",
        "    SELECT permno, date, vol, prc\n",
        "    FROM crsp.dsf\n",
        "    WHERE date >= '2000-01-01'\n",
        "\"\"\"\n",
        "crsp_data = conn.raw_sql(query_crsp, params=None)\n",
        "\n",
        "# Close WRDS connection after fetching data\n",
        "conn.close()\n",
        "\n",
        "# Convert the 'date' column to proper datetime format\n",
        "crsp_data['date'] = pd.to_datetime(crsp_data['date'])\n",
        "\n",
        "# Manually define the inflation factor (CPI value from a base year, e.g., 2013 CPI value)\n",
        "# Let's assume the CPI value in 2013 is 230.0 (you can adjust this to the actual CPI value from your base year)\n",
        "base_cpi = 230.0\n",
        "\n",
        "# Calculate dollar volume (price * volume)\n",
        "crsp_data['dollar_vol'] = crsp_data['prc'] * crsp_data['vol']\n",
        "\n",
        "# Inflation-adjusted dollar volume using a fixed inflation factor (CPI 2013)\n",
        "crsp_data['infl_adj_dollar_vol'] = crsp_data['dollar_vol'] * 0.967  # Example: CPI = 230 in 2013\n",
        "\n",
        "# Define the function to calculate previous 5-day average and next day's volume\n",
        "def calculate_avg_and_next_day_vol(df):\n",
        "    df['avg_past_5'] = df.groupby('permno')['infl_adj_dollar_vol'].transform(\n",
        "        lambda x: x.shift(1).rolling(window=5, min_periods=1).mean())\n",
        "    df['next_day_vol'] = df.groupby('permno')['infl_adj_dollar_vol'].shift(-1)\n",
        "    return df\n",
        "\n",
        "# Apply the function to calculate the required volumes\n",
        "crsp_data = calculate_avg_and_next_day_vol(crsp_data)\n",
        "\n",
        "# Filter the stock-days based on the conditions:\n",
        "filtered_data = crsp_data[\n",
        "    (crsp_data['infl_adj_dollar_vol'] > 100000000) &  # More than $100M adjusted\n",
        "    (crsp_data['infl_adj_dollar_vol'] > 10 * crsp_data['avg_past_5']) &  # 10x the 5-day average\n",
        "    (crsp_data['infl_adj_dollar_vol'] > 10 * crsp_data['next_day_vol'])  # 10x the next day's volume\n",
        "]\n",
        "\n",
        "# Display or export the filtered stock-days\n",
        "print(filtered_data[['permno', 'date', 'infl_adj_dollar_vol', 'avg_past_5', 'next_day_vol']])\n",
        "\n",
        "# Optionally, save the filtered results to a CSV\n",
        "filtered_data.to_csv('filtered_stock_days2000.csv', index=False)\n"
      ],
      "metadata": {
        "colab": {
          "base_uri": "https://localhost:8080/"
        },
        "id": "nRTFdAAT8rNp",
        "outputId": "b40bcbcf-e459-40ee-f9cf-dd3ea7eab2df"
      },
      "execution_count": null,
      "outputs": [
        {
          "output_type": "stream",
          "name": "stdout",
          "text": [
            "Enter your WRDS username [root]:satyam030400\n",
            "Enter your password:··········\n",
            "WRDS recommends setting up a .pgpass file.\n",
            "Create .pgpass file now [y/n]?: n\n",
            "You can create this file yourself at any time with the create_pgpass_file() function.\n",
            "Loading library list...\n",
            "Done\n",
            "        permno       date  infl_adj_dollar_vol    avg_past_5  next_day_vol\n",
            "48949    10051 2022-07-22         3.838224e+08  1.881559e+06  3.134793e+07\n",
            "65111    10078 2009-04-20         6.907831e+09  1.437793e+08  6.168790e+08\n",
            "151729   10200 2019-09-20         6.839519e+08  4.659347e+07  4.042424e+07\n",
            "153039   10201 2011-06-24         1.081063e+08  7.800115e+06  9.596786e+06\n",
            "194145   10252 2021-11-12         3.609456e+08  3.543162e+07  3.049617e+07\n",
            "...        ...        ...                  ...           ...           ...\n",
            "264353   93369 2021-05-06         6.103791e+08  5.641356e+07  5.727236e+07\n",
            "282967   93376 2011-11-30         1.087363e+08  1.680338e+05  1.005806e+05\n",
            "285070   93376 2020-04-13         1.074908e+08  2.218274e+06  3.492849e+06\n",
            "334067   93402 2012-12-03         2.028844e+08  2.700124e+06  1.647426e+07\n",
            "394924   93433 2015-08-10         1.415947e+08  5.174176e+06  1.170956e+07\n",
            "\n",
            "[4239 rows x 5 columns]\n"
          ]
        }
      ]
    },
    {
      "cell_type": "code",
      "source": [],
      "metadata": {
        "id": "Bn84mS7jCReF"
      },
      "execution_count": null,
      "outputs": []
    }
  ]
}